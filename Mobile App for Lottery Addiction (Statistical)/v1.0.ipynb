{
 "cells": [
  {
   "cell_type": "markdown",
   "metadata": {},
   "source": [
    "# Mobile App for Lottery Addiction\n",
    "\n",
    "A medical institute that aims to prevent and treat gambling addictions wants to build a dedicated mobile app to help lottery addicts better estimate their chances of winning. They need help designing the logical core of the app.\n",
    "\n",
    "The first version of the app will focus on the [6/49 lottery](https://en.wikipedia.org/wiki/Lotto_6/49). Features they would like to include will answer some of the following questions:\n",
    "- What is the probability of winning the big prize with a single ticket?\n",
    "- What is the probability of winning the big prize if X amount of tickets are played?\n",
    "- What is the probability of having at least X amount of winning numbers on a single ticket?\n",
    "\n",
    "Furthermore, there is [historical data](https://www.kaggle.com/datascienceai/lottery-dataset) that will be considered, covering 3,665 drawings from 1982 to 2018."
   ]
  },
  {
   "cell_type": "markdown",
   "metadata": {},
   "source": [
    "## Core Functions\n",
    "\n",
    "A core function of this app will be calculating probabilities given a certain input. Two functions that will be used a lot are:\n",
    "- A function for calculating factorials\n",
    "- A function for calculating combinations\n",
    "\n",
    "Calculating the factorial of a number (n), n! can be done as follows:\n",
    "\n",
    "$$ n! = n \\cdot{} (n-1) \\cdot{} (n-2) \\cdot{} (...) \\cdot{} 2 \\cdot{} 1 $$\n",
    "\n",
    "As the 6/49 Lottery draws numbers without replacing them, the cobination of a number can be calculated as follows, taking *k* objects from a group of *n* objects:\n",
    "\n",
    "$$ _{n}C_{k} = \\Big(\\frac{n}{k}\\Big) = \\frac{n!}{k!(n - k)!} $$\n",
    "\n",
    "Let's see these in python:"
   ]
  },
  {
   "cell_type": "markdown",
   "metadata": {},
   "source": [
    "#### Factorial"
   ]
  },
  {
   "cell_type": "code",
   "execution_count": 1,
   "metadata": {
    "collapsed": false
   },
   "outputs": [],
   "source": [
    "def factorial(n: int) -> int:\n",
    "    #Recursively calculate the factorial of an integer number\n",
    "    if n > 0:\n",
    "        return n * factorial(n - 1)\n",
    "    else:\n",
    "        return 1"
   ]
  },
  {
   "cell_type": "markdown",
   "metadata": {},
   "source": [
    "#### Combinations"
   ]
  },
  {
   "cell_type": "code",
   "execution_count": 2,
   "metadata": {
    "collapsed": true
   },
   "outputs": [],
   "source": [
    "def combinations(n: int, k: int) -> int:\n",
    "    #Calculate combination taking k objects from group of n\n",
    "    denominator = factorial(k) * factorial(n - k)\n",
    "    return factorial(n) / denominator"
   ]
  },
  {
   "cell_type": "markdown",
   "metadata": {},
   "source": [
    "## Single Ticket Probability\n",
    "\n",
    "These core functions will be used as a basis in the next major feature -- calculating the probability of winning the big prize. In the 6/49 Lottery, winning the big prize requires every number on a ticket to match each number drawn, exactly. The numbers can range from 1 - 49 and will be inputted by the user."
   ]
  },
  {
   "cell_type": "code",
   "execution_count": 3,
   "metadata": {
    "collapsed": true
   },
   "outputs": [],
   "source": [
    "def one_ticket_probability(numbers: list):\n",
    "    #There are 13,983,816 ways to choose 6 numbers from 49 choices,\n",
    "    #the chance of choosing the correct ones is 1 / 13,983,816.\n",
    "    c_total = combinations(49, 6)\n",
    "    prob = 1 / c_total\n",
    "    percentage = prob * 100\n",
    "    return print('The numbers you chose: {0}\\nhave a {1:.8f} % probability of winning the big prize.'.format(numbers, percentage))\n"
   ]
  },
  {
   "cell_type": "code",
   "execution_count": 4,
   "metadata": {
    "collapsed": false
   },
   "outputs": [
    {
     "name": "stdout",
     "output_type": "stream",
     "text": [
      "The numbers you chose: [1, 2, 3, 4, 5, 6]\n",
      "have a 0.00000715 % probability of winning the big prize.\n"
     ]
    }
   ],
   "source": [
    "one_ticket_probability([1, 2, 3, 4, 5, 6])"
   ]
  },
  {
   "cell_type": "code",
   "execution_count": 5,
   "metadata": {
    "collapsed": false
   },
   "outputs": [
    {
     "name": "stdout",
     "output_type": "stream",
     "text": [
      "The numbers you chose: [6, 5, 4, 3, 2, 1]\n",
      "have a 0.00000715 % probability of winning the big prize.\n"
     ]
    }
   ],
   "source": [
    "one_ticket_probability([6, 5, 4, 3, 2, 1])"
   ]
  },
  {
   "cell_type": "code",
   "execution_count": 6,
   "metadata": {
    "collapsed": false
   },
   "outputs": [
    {
     "name": "stdout",
     "output_type": "stream",
     "text": [
      "The numbers you chose: [49, 48, 47, 46, 45, 44]\n",
      "have a 0.00000715 % probability of winning the big prize.\n"
     ]
    }
   ],
   "source": [
    "one_ticket_probability([49, 48, 47, 46, 45, 44])"
   ]
  },
  {
   "cell_type": "markdown",
   "metadata": {},
   "source": [
    "As shown with a few sample inputs, the probability of winning the big prize with one ticket is very small. This probability also does *NOT* change by inputting different numbers."
   ]
  },
  {
   "cell_type": "markdown",
   "metadata": {},
   "source": [
    "## Taking A Look at History\n",
    "\n",
    "With the [data](https://www.kaggle.com/datascienceai/lottery-dataset) available from previous lottery drawings, the user could see if the numbers they choose have been winning numbers in the past.\n",
    "\n",
    "Let's take a look at the data to start."
   ]
  },
  {
   "cell_type": "code",
   "execution_count": 7,
   "metadata": {
    "collapsed": false
   },
   "outputs": [
    {
     "name": "stdout",
     "output_type": "stream",
     "text": [
      "(3665, 11)\n"
     ]
    }
   ],
   "source": [
    "import pandas as pd\n",
    "\n",
    "lottery_data = pd.read_csv('649.csv')\n",
    "print(lottery_data.shape)"
   ]
  },
  {
   "cell_type": "code",
   "execution_count": 8,
   "metadata": {
    "collapsed": false
   },
   "outputs": [
    {
     "data": {
      "text/html": [
       "<div>\n",
       "<style scoped>\n",
       "    .dataframe tbody tr th:only-of-type {\n",
       "        vertical-align: middle;\n",
       "    }\n",
       "\n",
       "    .dataframe tbody tr th {\n",
       "        vertical-align: top;\n",
       "    }\n",
       "\n",
       "    .dataframe thead th {\n",
       "        text-align: right;\n",
       "    }\n",
       "</style>\n",
       "<table border=\"1\" class=\"dataframe\">\n",
       "  <thead>\n",
       "    <tr style=\"text-align: right;\">\n",
       "      <th></th>\n",
       "      <th>PRODUCT</th>\n",
       "      <th>DRAW NUMBER</th>\n",
       "      <th>SEQUENCE NUMBER</th>\n",
       "      <th>DRAW DATE</th>\n",
       "      <th>NUMBER DRAWN 1</th>\n",
       "      <th>NUMBER DRAWN 2</th>\n",
       "      <th>NUMBER DRAWN 3</th>\n",
       "      <th>NUMBER DRAWN 4</th>\n",
       "      <th>NUMBER DRAWN 5</th>\n",
       "      <th>NUMBER DRAWN 6</th>\n",
       "      <th>BONUS NUMBER</th>\n",
       "    </tr>\n",
       "  </thead>\n",
       "  <tbody>\n",
       "    <tr>\n",
       "      <th>0</th>\n",
       "      <td>649</td>\n",
       "      <td>1</td>\n",
       "      <td>0</td>\n",
       "      <td>6/12/1982</td>\n",
       "      <td>3</td>\n",
       "      <td>11</td>\n",
       "      <td>12</td>\n",
       "      <td>14</td>\n",
       "      <td>41</td>\n",
       "      <td>43</td>\n",
       "      <td>13</td>\n",
       "    </tr>\n",
       "    <tr>\n",
       "      <th>1</th>\n",
       "      <td>649</td>\n",
       "      <td>2</td>\n",
       "      <td>0</td>\n",
       "      <td>6/19/1982</td>\n",
       "      <td>8</td>\n",
       "      <td>33</td>\n",
       "      <td>36</td>\n",
       "      <td>37</td>\n",
       "      <td>39</td>\n",
       "      <td>41</td>\n",
       "      <td>9</td>\n",
       "    </tr>\n",
       "    <tr>\n",
       "      <th>2</th>\n",
       "      <td>649</td>\n",
       "      <td>3</td>\n",
       "      <td>0</td>\n",
       "      <td>6/26/1982</td>\n",
       "      <td>1</td>\n",
       "      <td>6</td>\n",
       "      <td>23</td>\n",
       "      <td>24</td>\n",
       "      <td>27</td>\n",
       "      <td>39</td>\n",
       "      <td>34</td>\n",
       "    </tr>\n",
       "  </tbody>\n",
       "</table>\n",
       "</div>"
      ],
      "text/plain": [
       "   PRODUCT  DRAW NUMBER  SEQUENCE NUMBER  DRAW DATE  NUMBER DRAWN 1  \\\n",
       "0      649            1                0  6/12/1982               3   \n",
       "1      649            2                0  6/19/1982               8   \n",
       "2      649            3                0  6/26/1982               1   \n",
       "\n",
       "   NUMBER DRAWN 2  NUMBER DRAWN 3  NUMBER DRAWN 4  NUMBER DRAWN 5  \\\n",
       "0              11              12              14              41   \n",
       "1              33              36              37              39   \n",
       "2               6              23              24              27   \n",
       "\n",
       "   NUMBER DRAWN 6  BONUS NUMBER  \n",
       "0              43            13  \n",
       "1              41             9  \n",
       "2              39            34  "
      ]
     },
     "execution_count": 8,
     "metadata": {},
     "output_type": "execute_result"
    }
   ],
   "source": [
    "lottery_data.head(3)"
   ]
  },
  {
   "cell_type": "code",
   "execution_count": 9,
   "metadata": {
    "collapsed": false
   },
   "outputs": [
    {
     "data": {
      "text/html": [
       "<div>\n",
       "<style scoped>\n",
       "    .dataframe tbody tr th:only-of-type {\n",
       "        vertical-align: middle;\n",
       "    }\n",
       "\n",
       "    .dataframe tbody tr th {\n",
       "        vertical-align: top;\n",
       "    }\n",
       "\n",
       "    .dataframe thead th {\n",
       "        text-align: right;\n",
       "    }\n",
       "</style>\n",
       "<table border=\"1\" class=\"dataframe\">\n",
       "  <thead>\n",
       "    <tr style=\"text-align: right;\">\n",
       "      <th></th>\n",
       "      <th>PRODUCT</th>\n",
       "      <th>DRAW NUMBER</th>\n",
       "      <th>SEQUENCE NUMBER</th>\n",
       "      <th>DRAW DATE</th>\n",
       "      <th>NUMBER DRAWN 1</th>\n",
       "      <th>NUMBER DRAWN 2</th>\n",
       "      <th>NUMBER DRAWN 3</th>\n",
       "      <th>NUMBER DRAWN 4</th>\n",
       "      <th>NUMBER DRAWN 5</th>\n",
       "      <th>NUMBER DRAWN 6</th>\n",
       "      <th>BONUS NUMBER</th>\n",
       "    </tr>\n",
       "  </thead>\n",
       "  <tbody>\n",
       "    <tr>\n",
       "      <th>3662</th>\n",
       "      <td>649</td>\n",
       "      <td>3589</td>\n",
       "      <td>0</td>\n",
       "      <td>6/13/2018</td>\n",
       "      <td>6</td>\n",
       "      <td>22</td>\n",
       "      <td>24</td>\n",
       "      <td>31</td>\n",
       "      <td>32</td>\n",
       "      <td>34</td>\n",
       "      <td>16</td>\n",
       "    </tr>\n",
       "    <tr>\n",
       "      <th>3663</th>\n",
       "      <td>649</td>\n",
       "      <td>3590</td>\n",
       "      <td>0</td>\n",
       "      <td>6/16/2018</td>\n",
       "      <td>2</td>\n",
       "      <td>15</td>\n",
       "      <td>21</td>\n",
       "      <td>31</td>\n",
       "      <td>38</td>\n",
       "      <td>49</td>\n",
       "      <td>8</td>\n",
       "    </tr>\n",
       "    <tr>\n",
       "      <th>3664</th>\n",
       "      <td>649</td>\n",
       "      <td>3591</td>\n",
       "      <td>0</td>\n",
       "      <td>6/20/2018</td>\n",
       "      <td>14</td>\n",
       "      <td>24</td>\n",
       "      <td>31</td>\n",
       "      <td>35</td>\n",
       "      <td>37</td>\n",
       "      <td>48</td>\n",
       "      <td>17</td>\n",
       "    </tr>\n",
       "  </tbody>\n",
       "</table>\n",
       "</div>"
      ],
      "text/plain": [
       "      PRODUCT  DRAW NUMBER  SEQUENCE NUMBER  DRAW DATE  NUMBER DRAWN 1  \\\n",
       "3662      649         3589                0  6/13/2018               6   \n",
       "3663      649         3590                0  6/16/2018               2   \n",
       "3664      649         3591                0  6/20/2018              14   \n",
       "\n",
       "      NUMBER DRAWN 2  NUMBER DRAWN 3  NUMBER DRAWN 4  NUMBER DRAWN 5  \\\n",
       "3662              22              24              31              32   \n",
       "3663              15              21              31              38   \n",
       "3664              24              31              35              37   \n",
       "\n",
       "      NUMBER DRAWN 6  BONUS NUMBER  \n",
       "3662              34            16  \n",
       "3663              49             8  \n",
       "3664              48            17  "
      ]
     },
     "execution_count": 9,
     "metadata": {},
     "output_type": "execute_result"
    }
   ],
   "source": [
    "lottery_data.tail(3)"
   ]
  },
  {
   "cell_type": "markdown",
   "metadata": {},
   "source": [
    "The relevant data here shows the numbers drawn for this lottery in the past. This data can be extracted and checked against a users numbers to see if their numbers have been winning numbers in the past.\n",
    "\n",
    "The first step is to extract the numbers for each drawing into a list."
   ]
  },
  {
   "cell_type": "code",
   "execution_count": 16,
   "metadata": {
    "collapsed": false
   },
   "outputs": [],
   "source": [
    "def extract_numbers(row) -> list:\n",
    "    #Pick the numbers drawn and return them as a set\n",
    "    numbers = row[4:10]\n",
    "    return set(numbers)\n"
   ]
  },
  {
   "cell_type": "code",
   "execution_count": 17,
   "metadata": {
    "collapsed": false
   },
   "outputs": [
    {
     "data": {
      "text/plain": [
       "0    {3, 41, 11, 12, 43, 14}\n",
       "1    {33, 36, 37, 39, 8, 41}\n",
       "2     {1, 6, 39, 23, 24, 27}\n",
       "3     {3, 9, 10, 43, 13, 20}\n",
       "4    {34, 5, 14, 47, 21, 31}\n",
       "dtype: object"
      ]
     },
     "execution_count": 17,
     "metadata": {},
     "output_type": "execute_result"
    }
   ],
   "source": [
    "winning_numbers = lottery_data.apply(extract_numbers, axis=1)\n",
    "winning_numbers.head()"
   ]
  },
  {
   "cell_type": "markdown",
   "metadata": {
    "collapsed": true
   },
   "source": [
    "Next will be comparing numbers a user inputs to all the previous winning numbers."
   ]
  },
  {
   "cell_type": "code",
   "execution_count": 20,
   "metadata": {
    "collapsed": true
   },
   "outputs": [],
   "source": [
    "def check_historical_occurence(user_num: list, series):\n",
    "    #compare user numbers against pandas series of historical values\n",
    "    user_num_set = set(user_num)\n",
    "    matches = user_num_set == series\n",
    "    n_occurence = matches.sum()\n",
    "    \n",
    "    if n_occurence == 0:\n",
    "        print('The numbers you entered, {} have never previously won. This does not mean your chances of winning are better, however.'.format(user_num))\n",
    "        \n",
    "    else:\n",
    "        print('The numbers you entered, {} have occured {} times. However, this does not increase your chances of winning.'.format(user_num, n_occurence))\n",
    "        \n",
    "    print('\\nYour chance to win the big prize in the next drawing using the combination {} is 0.0000072%. In other words, you have a 1 in 13,983,816 chance to win.'.format(user_num))\n",
    "    \n",
    "    return"
   ]
  },
  {
   "cell_type": "code",
   "execution_count": 21,
   "metadata": {
    "collapsed": false
   },
   "outputs": [
    {
     "name": "stdout",
     "output_type": "stream",
     "text": [
      "The numbers you entered, [8, 33, 37, 36, 39, 41] have occured 1 times. However, this does not increase your chances of winning.\n",
      "\n",
      "Your chance to win the big prize in the next drawing using the combination [8, 33, 37, 36, 39, 41] is 0.0000072%. In other words, you have a 1 in 13,983,816 chance to win.\n"
     ]
    }
   ],
   "source": [
    "check_historical_occurence([8, 33, 37, 36, 39, 41], winning_numbers)"
   ]
  },
  {
   "cell_type": "code",
   "execution_count": 22,
   "metadata": {
    "collapsed": false
   },
   "outputs": [
    {
     "name": "stdout",
     "output_type": "stream",
     "text": [
      "The numbers you entered, [1, 2, 3, 4, 5, 6] have never previously won. This does not mean your chances of winning are better, however.\n",
      "\n",
      "Your chance to win the big prize in the next drawing using the combination [1, 2, 3, 4, 5, 6] is 0.0000072%. In other words, you have a 1 in 13,983,816 chance to win.\n"
     ]
    }
   ],
   "source": [
    "check_historical_occurence([1,2,3,4,5,6], winning_numbers)"
   ]
  },
  {
   "cell_type": "markdown",
   "metadata": {},
   "source": [
    "As shown above, entering a set of winning numbers (copied from winning_numbers.head) and comparing it to all the winning numbers shows that it does in fact occur once. Alternatively, entering the numbers 1-6 and checking against previous winning numbers shows that it has not occured. Either way the chances of winning do not change."
   ]
  },
  {
   "cell_type": "markdown",
   "metadata": {},
   "source": [
    "## Multiple Entries Probability\n",
    "\n",
    "Lottery addicts are likely to play more than one ticket in a single drawing, assuming this greatly increases their odds of winning. The next task is to estimate their odds of winning based on the number of different tickets they plan on playing. Let's create a function to calculate this, utilizing the previous core functions."
   ]
  },
  {
   "cell_type": "code",
   "execution_count": 34,
   "metadata": {
    "collapsed": true
   },
   "outputs": [],
   "source": [
    "def n_entries_probability(n: int):\n",
    "    #There are 13,983,816 ways to choose 6 numbers from 49 choices,\n",
    "    #the chance of choosing the correct ones is n / 13,983,816.\n",
    "    \n",
    "    c_total = combinations(49, 6)\n",
    "    prob = n / c_total\n",
    "    percentage = prob * 100\n",
    "    return print('\\nPlaying {} different tickets provides a {:.8f}% probability of winning the big prize.'.format(n, percentage))\n"
   ]
  },
  {
   "cell_type": "code",
   "execution_count": 35,
   "metadata": {
    "collapsed": false
   },
   "outputs": [
    {
     "name": "stdout",
     "output_type": "stream",
     "text": [
      "\n",
      "Playing 1 different tickets provides a 0.00000715% probability of winning the big prize.\n",
      "\n",
      "Playing 10 different tickets provides a 0.00007151% probability of winning the big prize.\n",
      "\n",
      "Playing 100 different tickets provides a 0.00071511% probability of winning the big prize.\n",
      "\n",
      "Playing 10000 different tickets provides a 0.07151124% probability of winning the big prize.\n",
      "\n",
      "Playing 1000000 different tickets provides a 7.15112384% probability of winning the big prize.\n",
      "\n",
      "Playing 6991908 different tickets provides a 50.00000000% probability of winning the big prize.\n",
      "\n",
      "Playing 13983816 different tickets provides a 100.00000000% probability of winning the big prize.\n"
     ]
    }
   ],
   "source": [
    "entries = [1, 10, 100, 10000, 1000000, 6991908, 13983816]\n",
    "\n",
    "pcts = [n_entries_probability(x) for x in entries]"
   ]
  },
  {
   "cell_type": "markdown",
   "metadata": {},
   "source": [
    "#### A Guaranteed Win Isn't Profitable\n",
    "\n",
    "As seen above, unless you are entering every single ticket combination possible your odds of winning do not increase dramatically. Entering 10,000 tickets only gives you slightly over 7% chance of winning. \n",
    "\n",
    "As of 2013, the price per entry in this lottery is 3 USD; Requiring someone to spend $41,951,448 to garuntee a win.\n",
    "\n",
    "In order for this to be a 'profitable' endeavor (winning the minimum jackpot of $5,000,000), you would need to buy tickets (a single entry) at a cost of less than ~25 cents per entry, to account for taxes on winnings."
   ]
  },
  {
   "cell_type": "code",
   "execution_count": 38,
   "metadata": {
    "collapsed": false
   },
   "outputs": [
    {
     "data": {
      "text/plain": [
       "41951448"
      ]
     },
     "execution_count": 38,
     "metadata": {},
     "output_type": "execute_result"
    }
   ],
   "source": [
    "# 3$ per entry * 13983816 entries\n",
    "3 * 13983816"
   ]
  },
  {
   "cell_type": "code",
   "execution_count": 40,
   "metadata": {
    "collapsed": false
   },
   "outputs": [
    {
     "data": {
      "text/plain": [
       "0.2609899212415517"
      ]
     },
     "execution_count": 40,
     "metadata": {},
     "output_type": "execute_result"
    }
   ],
   "source": [
    "# $5 million winning / (number of tickets * cost/tax factor)\n",
    "5000000 / (13983816*1.37)"
   ]
  },
  {
   "cell_type": "markdown",
   "metadata": {},
   "source": [
    "## Partial Winning Numbers\n",
    "\n",
    "Most lotteries have smaller prizes for players that match some of the winning numbers, but not all. For example, matching two numbers in the 6/49 Lottery provides a free entry to the next draw. These players might be interested in knowing the probability of such an occurance.\n",
    "\n",
    "Let's create a function that allows users to calculate the probability of matching 2, 3, 4, or 5 numbers."
   ]
  },
  {
   "cell_type": "code",
   "execution_count": 59,
   "metadata": {
    "collapsed": true
   },
   "outputs": [],
   "source": [
    "def partial_probability(n: int):\n",
    "    #calculate the probability of matching exactly n numbers\n",
    "    #c_ticket is number of ways 5 numbers can be on 1 ticket\n",
    "    #c_remain is number of ways to have 6 - n incorrect numbers to fill\n",
    "    c_ticket = combinations(6, n)\n",
    "    c_remain = combinations(43, 6 - n)\n",
    "    n_success = c_ticket * c_remain\n",
    "    \n",
    "    probability = n_success / combinations(49, 6)\n",
    "    percent = probability * 100\n",
    "    \n",
    "    print('\\nThere is a {:.8f}% chance to match {} numbers'.format(percent, n))\n",
    "    \n",
    "    return"
   ]
  },
  {
   "cell_type": "code",
   "execution_count": 58,
   "metadata": {
    "collapsed": false
   },
   "outputs": [
    {
     "name": "stdout",
     "output_type": "stream",
     "text": [
      "\n",
      "There is a 41.30194505% chance to match 1 numbers\n",
      "\n",
      "There is a 13.23780290% chance to match 2 numbers\n",
      "\n",
      "There is a 1.76504039% chance to match 3 numbers\n",
      "\n",
      "There is a 0.09686197% chance to match 4 numbers\n",
      "\n",
      "There is a 0.00184499% chance to match 5 numbers\n"
     ]
    },
    {
     "data": {
      "text/plain": [
       "[None, None, None, None, None]"
      ]
     },
     "execution_count": 58,
     "metadata": {},
     "output_type": "execute_result"
    }
   ],
   "source": [
    "[partial_probability(x) for x in [1, 2, 3, 4, 5]]"
   ]
  },
  {
   "cell_type": "markdown",
   "metadata": {},
   "source": [
    "As shown above, the chance for matching fewer numbers out of all the numbers increases. i.e. the more numbers you want to match, the lower chance there is to have them all actually match. This is intuitive."
   ]
  },
  {
   "cell_type": "markdown",
   "metadata": {},
   "source": [
    "## v2.0\n",
    "\n",
    "There are rudimentary functions built for the first version of this app, all specific to the 6/49 lottery. While this is a good start for the app there are many directions it could go. The basic usability can be tweaked to fit parameters of other famous lotteries, a function could be created to find the probability of having at *least* n winning numbers, or even adding in 'similar chance' facts to connect gambling probabilities with the real world."
   ]
  },
  {
   "cell_type": "code",
   "execution_count": null,
   "metadata": {
    "collapsed": true
   },
   "outputs": [],
   "source": []
  }
 ],
 "metadata": {
  "kernelspec": {
   "display_name": "Python 3",
   "language": "python",
   "name": "python3"
  },
  "language_info": {
   "codemirror_mode": {
    "name": "ipython",
    "version": 3
   },
   "file_extension": ".py",
   "mimetype": "text/x-python",
   "name": "python",
   "nbconvert_exporter": "python",
   "pygments_lexer": "ipython3",
   "version": "3.4.3"
  }
 },
 "nbformat": 4,
 "nbformat_minor": 2
}
