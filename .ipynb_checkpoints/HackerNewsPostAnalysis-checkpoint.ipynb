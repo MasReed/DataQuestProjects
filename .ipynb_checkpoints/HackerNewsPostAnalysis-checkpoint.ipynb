{
 "cells": [
  {
   "cell_type": "markdown",
   "metadata": {},
   "source": [
    "# Exploring Hacker News Posts\n",
    "\n",
    "Hacker News is a popular website amongst technology and startup audiences. Users submit stories and can be voted and commented upon by the community. Successful stories or posts can get many views. \n",
    "\n",
    "This [data set](https://www.kaggle.com/hacker-news/hacker-news-posts) can be culled from over 300,000 posts down to posts which only include posts with comments. Within these posts, there are two main categories: 'Ask HN' and 'Show HN', where users either ask the community for advice, or show the community something they have done.\n",
    "\n",
    "We will compare the two types of posts, 'Ask HN' and 'Show HN', to determine which type gets more comments on average, and to examine whether posts get more comments based on the time they were posted."
   ]
  },
  {
   "cell_type": "markdown",
   "metadata": {},
   "source": [
    "### Import Data"
   ]
  },
  {
   "cell_type": "code",
   "execution_count": 10,
   "metadata": {
    "scrolled": false
   },
   "outputs": [
    {
     "name": "stdout",
     "output_type": "stream",
     "text": [
      "Header\n",
      " ['id', 'title', 'url', 'num_points', 'num_comments', 'author', 'created_at'] \n",
      "\n",
      "Sample Rows: \n",
      " [['12579008', 'You have two days to comment if you want stem cells to be classified as your own', 'http://www.regulations.gov/document?D=FDA-2015-D-3719-0018', '1', '0', 'altstar', '9/26/2016 3:26'], ['12579005', 'SQLAR  the SQLite Archiver', 'https://www.sqlite.org/sqlar/doc/trunk/README.md', '1', '0', 'blacksqr', '9/26/2016 3:24'], ['12578997', 'What if we just printed a flatscreen television on the side of our boxes?', 'https://medium.com/vanmoof/our-secrets-out-f21c1f03fdc8#.ietxmez43', '1', '0', 'pavel_lishin', '9/26/2016 3:19']]\n",
      "\n",
      "Rows of Data:  293119 \n",
      "\n"
     ]
    }
   ],
   "source": [
    "from csv import reader\n",
    "\n",
    "opened_file = open('HN_posts_year_to_Sep_26_2016.csv', encoding='utf8')\n",
    "read_file = reader(opened_file)\n",
    "hn_data = list(read_file)\n",
    "hn_header = hn_data[0]\n",
    "hn = hn_data[1:]\n",
    "\n",
    "print('Header\\n', hn_header, '\\n')\n",
    "print('Sample Rows: \\n', hn[:3])\n",
    "print('\\nRows of Data: ',len(hn), '\\n')"
   ]
  },
  {
   "cell_type": "markdown",
   "metadata": {},
   "source": [
    "We can see there are a few useful column categories to help prune the data down from the nearly 300,000 entries. Most of these columns are self explanitory but to note:\n",
    "- 'num_points' is the number of positive votes a post gets\n",
    "- 'created_at' is the date and time at which the post was created according to the Eastern Time (ET) zone in the US"
   ]
  },
  {
   "cell_type": "markdown",
   "metadata": {},
   "source": [
    "### Select Comment Provoking Posts\n",
    "\n",
    "This is done by creating a new list for the selected data to stay, then using a for loop to check where the 'num_comments' value is larger than zero, to only include posts which provoked users to comment, as below."
   ]
  },
  {
   "cell_type": "code",
   "execution_count": 15,
   "metadata": {},
   "outputs": [
    {
     "name": "stdout",
     "output_type": "stream",
     "text": [
      "There are 80401 posts with comments.\n"
     ]
    }
   ],
   "source": [
    "hn_commented_posts = []\n",
    "\n",
    "for row in hn:\n",
    "    if int(row[4]) > 0:\n",
    "        hn_commented_posts.append(row)\n",
    "        \n",
    "print('There are {} posts with comments.'.format(len(hn_commented_posts)))"
   ]
  },
  {
   "cell_type": "markdown",
   "metadata": {},
   "source": [
    "### Select Relevent Posts\n",
    "\n",
    "Since we are only interested in posts that begin with'Ask HN'  or 'Show HN', we can further separate our date based on this criteria."
   ]
  },
  {
   "cell_type": "code",
   "execution_count": 23,
   "metadata": {},
   "outputs": [
    {
     "name": "stdout",
     "output_type": "stream",
     "text": [
      "There are 6911 'Ask HN' posts.\n",
      "\n",
      "\t [['12578908', 'Ask HN: What TLD do you use for local development?', '', '4', '7', 'Sevrene', '9/26/2016 2:53'], ['12578522', 'Ask HN: How do you pass on your work when you die?', '', '6', '3', 'PascLeRasc', '9/26/2016 1:17']] \n",
      "\n",
      "There are 5059 'Show HN' posts.\n",
      "\n",
      "\t [['12577142', 'Show HN: Jumble  Essays on the go #PaulInYourPocket', 'https://itunes.apple.com/us/app/jumble-find-startup-essay/id1150939197?ls=1&mt=8', '1', '1', 'ryderj', '9/25/2016 20:06'], ['12576813', 'Show HN: Learn Japanese Vocab via multiple choice questions', 'http://japanese.vul.io/', '1', '1', 'soulchild37', '9/25/2016 19:06']] \n",
      "\n",
      "There are 68431 other posts.\n"
     ]
    }
   ],
   "source": [
    "ask_posts = []\n",
    "show_posts = []\n",
    "other_posts = []\n",
    "\n",
    "for row in hn_commented_posts:\n",
    "    title = row[1]\n",
    "    if title.lower().startswith('ask hn'):\n",
    "        ask_posts.append(row)\n",
    "    elif title.lower().startswith('show hn'):\n",
    "        show_posts.append(row)\n",
    "    else:\n",
    "        other_posts.append(row)\n",
    "        \n",
    "print('There are {} \\'Ask HN\\' posts.'.format(len(ask_posts)))\n",
    "print('\\n\\t', ask_posts[:2], '\\n')\n",
    "print('There are {} \\'Show HN\\' posts.'.format(len(show_posts)))\n",
    "print('\\n\\t', show_posts[:2], '\\n')\n",
    "print('There are {} other posts.'.format(len(other_posts)))"
   ]
  },
  {
   "cell_type": "markdown",
   "metadata": {},
   "source": [
    "### A Wager for Ask or Show\n",
    "\n",
    "With the data separated into 'Ask HN' or 'Show HN' we can find which type of post gets more votes and comments on *average*. This is done by simply counting the amount of votes or comments for each type and dividing by the total amounts of each post type as we have calculated above."
   ]
  },
  {
   "cell_type": "code",
   "execution_count": 30,
   "metadata": {},
   "outputs": [
    {
     "name": "stdout",
     "output_type": "stream",
     "text": [
      "The average votes per 'Ask HN' Post are 14.40\n",
      "The average votes per 'Show HN' Post are 19.49\n",
      "\n",
      "The average comments per 'Ask HN' Post are 13.74\n",
      "The average comments per 'Show HN' Post are 9.81\n"
     ]
    }
   ],
   "source": [
    "total_ask_votes = 0\n",
    "total_ask_comments = 0\n",
    "total_show_votes = 0\n",
    "total_show_comments = 0\n",
    "\n",
    "for row in ask_posts:\n",
    "    total_ask_votes += int(row[3])\n",
    "    total_ask_comments += int(row[4])\n",
    "    \n",
    "for row in show_posts:\n",
    "    total_show_votes += int(row[3])\n",
    "    total_show_comments += int(row[4])\n",
    "    \n",
    "avg_ask_votes = total_ask_votes / len(ask_posts)\n",
    "avg_show_votes = total_show_votes / len(ask_posts)\n",
    "avg_ask_comments = total_ask_comments / len(ask_posts)\n",
    "avg_show_comments = total_show_comments / len(show_posts)\n",
    "\n",
    "print('The average votes per \\'Ask HN\\' Post are {:.2f}'.format(avg_ask_votes))\n",
    "print('The average votes per \\'Show HN\\' Post are {:.2f}'.format(avg_show_votes))\n",
    "print('\\nThe average comments per \\'Ask HN\\' Post are {:.2f}'.format(avg_ask_comments))\n",
    "print('The average comments per \\'Show HN\\' Post are {:.2f}'.format(avg_show_comments))"
   ]
  },
  {
   "cell_type": "markdown",
   "metadata": {},
   "source": [
    "As shown, there are more votes on average for 'Show HN' posts than 'Ask HN' posts. However the opposite is true for the amount of comments on average. This makes some sense -- If a user is asking HN something, the community can only give an answer through comments while showing HN something doesn't require it; instead users may just vote in favor of what's been shown and move on.\n",
    "\n",
    "Based on how these votes and comments stem from an innate design of the website it is worth exploring both 'ask' and 'show' posts further."
   ]
  },
  {
   "cell_type": "markdown",
   "metadata": {},
   "source": [
    "### Time, Dr. Freeman?\n",
    "\n",
    "What is time? Rather, when *is* the time... to post? Let's find out.\n",
    "\n",
    "This can be done as follows:\n",
    " - Calculate the number of both ask and show posts created each hour of the day, along with their votes/comments\n",
    " - Calculate the average number of votes/comments posts receive by the hour they were created.\n",
    "\n",
    "First let's look at the 'created_at' column and sort both types of posts by time. While we are at it let's create frequency tables as well, which will be discussed more below."
   ]
  },
  {
   "cell_type": "code",
   "execution_count": 37,
   "metadata": {},
   "outputs": [],
   "source": [
    "import datetime as dt\n",
    "\n",
    "### ASK HN POSTS ###\n",
    "ask_result_list = [] #list of lists. Votes, Comments, Created\n",
    "for row in ask_posts:\n",
    "    votes = int(row[3])\n",
    "    comments = int(row[4])\n",
    "    created = row[6]\n",
    "    ask_result_list.append([votes, comments, created]) #pulls the votes, comments, time for each post\n",
    "    \n",
    "ask_counts_by_hour = {}\n",
    "ask_votes_by_hour = {}\n",
    "ask_comments_by_hour = {}\n",
    "\n",
    "for row in ask_result_list:\n",
    "    time = dt.datetime.strptime(row[2], '%m/%d/%Y %H:%M')\n",
    "    hour = dt.datetime.strftime(time, '%H') #convert time of post to hour value\n",
    "    \n",
    "    if hour in ask_counts_by_hour: #creates frequency table for counts, votes, and comments of each ask post\n",
    "        ask_counts_by_hour[hour] += 1\n",
    "        ask_votes_by_hour[hour] += row[0]\n",
    "        ask_comments_by_hour[hour] += row[1]\n",
    "    else:\n",
    "        ask_counts_by_hour[hour] = 1\n",
    "        ask_votes_by_hour[hour] = row[0]\n",
    "        ask_comments_by_hour[hour] = row[1]\n",
    "    \n",
    "\n",
    "### SHOW HN POSTS ###\n",
    "show_result_list = [] #list of lists. votes, comments, created\n",
    "for row in show_posts:\n",
    "    votes = int(row[3])\n",
    "    comments = int(row[4])\n",
    "    created = row[6]\n",
    "    show_result_list.append([votes, comments, created])\n",
    "    \n",
    "show_counts_by_hour = {}\n",
    "show_votes_by_hour = {}\n",
    "show_comments_by_hour = {}\n",
    "\n",
    "for row in show_result_list:\n",
    "    time = dt.datetime.strptime(row[2], '%m/%d/%Y %H:%M')\n",
    "    hour = dt.datetime.strftime(time, '%H')\n",
    "    \n",
    "    if hour in show_counts_by_hour:\n",
    "        show_counts_by_hour[hour] += 1\n",
    "        show_votes_by_hour[hour] += row[0]\n",
    "        show_comments_by_hour[hour] += row[1]\n",
    "    else:\n",
    "        show_counts_by_hour[hour] = 1\n",
    "        show_votes_by_hour[hour] = row[0]\n",
    "        show_comments_by_hour[hour] = row[1]\n",
    "    \n",
    "    "
   ]
  },
  {
   "cell_type": "markdown",
   "metadata": {},
   "source": [
    "Three dictionaries were created for each type of post (6 total) which hold different information, as follows:\n",
    "- `ask_counts_by_hour` -- The number of ask posts created for each hour of the day\n",
    "- `ask_votes_by_hour` -- The corresponding number of votes those ask posts received \n",
    "- `ask_comments_by_hour` -- The corresponding number of comments those ask posts received\n",
    "\n",
    "\n",
    "- `show_counts_by_hour` -- The number of show posts created for each hour of the day\n",
    "- `show_votes_by_hour` -- The corresponding number of votes those show posts received\n",
    "- `show_comments_by_hour` -- The corresponding number of comments those show posts received\n",
    "\n",
    "\n",
    "Each set of three dictionaries can be used to calculate the average number of votes *and* comments for posts created during each hour of the day. As shown below:"
   ]
  },
  {
   "cell_type": "code",
   "execution_count": 61,
   "metadata": {},
   "outputs": [
    {
     "name": "stdout",
     "output_type": "stream",
     "text": [
      "\n",
      "-Top 5 Hours for Posting Ask HN Posts-\n",
      "\n",
      "15:00: 18525 average comments per post\n",
      "       13689 average votes per post\n",
      "\n",
      "13:00: 7245 average comments per post\n",
      "       7749 average votes per post\n",
      "\n",
      "17:00: 5547 average comments per post\n",
      "       6853 average votes per post\n",
      "\n",
      "14:00: 4972 average comments per post\n",
      "       5172 average votes per post\n",
      "\n",
      "18:00: 4877 average comments per post\n",
      "       6570 average votes per post\n",
      "\n",
      "\n",
      "-Top 5 Hours for Posting Show HN Posts-\n",
      "\n",
      "15:00: 18525 average votes per post\n",
      "       13689 average comments per post\n",
      "\n",
      "13:00: 7245 average votes per post\n",
      "       7749 average comments per post\n",
      "\n",
      "17:00: 5547 average votes per post\n",
      "       6853 average comments per post\n",
      "\n",
      "14:00: 4972 average votes per post\n",
      "       5172 average comments per post\n",
      "\n",
      "18:00: 4877 average votes per post\n",
      "       6570 average comments per post\n",
      "\n"
     ]
    }
   ],
   "source": [
    "### ASK HN POSTS ###\n",
    "ask_avg_by_hour = []\n",
    "for hour in ask_counts_by_hour:\n",
    "    #Ordered in list as comments, votes, hour\n",
    "    ask_avg_by_hour.append([ask_comments_by_hour[hour], ask_votes_by_hour[hour], hour])    \n",
    "\n",
    "ask_avg_by_hour = sorted(ask_avg_by_hour, reverse=True) #Sort the list high-low by number of comments\n",
    "print('\\n-Top 5 Hours for Posting Ask HN Posts-\\n')\n",
    "for row in ask_avg_by_hour[:5]: #Format and print\n",
    "    hr = dt.datetime.strptime(row[2], '%H')\n",
    "    hr = dt.datetime.strftime(hr, '%H:%M')\n",
    "    print('{hr}: {com} average comments per post\\n       {vot} average votes per post\\n'.format(hr=hr, com=row[0], vot=row[1]))\n",
    "\n",
    "\n",
    "\n",
    "### SHOW HN POSTS ###\n",
    "show_avg_by_hour = []\n",
    "for hour in show_counts_by_hour:\n",
    "    #Ordered in list as votes, comments, hour\n",
    "    show_avg_by_hour.append([show_votes_by_hour[hour], show_comments_by_hour[hour], hour])\n",
    "    \n",
    "show_avg_by_hour = sorted(show_avg_by_hour, reverse=True) #Sort list high-low by number of votes\n",
    "print('\\n-Top 5 Hours for Posting Show HN Posts-\\n')\n",
    "for row in ask_avg_by_hour[:5]:\n",
    "    hr = dt.datetime.strptime(row[2], '%H')\n",
    "    hr = dt.datetime.strftime(hr, '%H:%M')\n",
    "    print('{hr}: {vot} average votes per post\\n       {com} average comments per post\\n'.format(hr=hr, com=row[1], vot=row[0]))\n"
   ]
  },
  {
   "cell_type": "markdown",
   "metadata": {},
   "source": [
    "# Conclusion\n",
    "\n",
    "The best time to post either 'Show HN' or 'Ask HN' type posts are sometime from 1 - 3 pm ET. Overall, it seems the average amount of votes and comments at these times are fairly close to the same amount, meaning users are voting and commenting about the same amount for posts overall. This also shows the highest amount of activity within the Hacker News community of users posting, voting, and commenting is in the afternoon into the evening. Likely towards the end of the work day."
   ]
  }
 ],
 "metadata": {
  "kernelspec": {
   "display_name": "Python 3",
   "language": "python",
   "name": "python3"
  },
  "language_info": {
   "codemirror_mode": {
    "name": "ipython",
    "version": 3
   },
   "file_extension": ".py",
   "mimetype": "text/x-python",
   "name": "python",
   "nbconvert_exporter": "python",
   "pygments_lexer": "ipython3",
   "version": "3.8.5"
  }
 },
 "nbformat": 4,
 "nbformat_minor": 4
}
